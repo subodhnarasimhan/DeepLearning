{
 "cells": [
  {
   "cell_type": "markdown",
   "id": "7ceaca3e",
   "metadata": {},
   "source": [
    "## Question 4"
   ]
  },
  {
   "cell_type": "markdown",
   "id": "0438108b",
   "metadata": {},
   "source": [
    "### Sub-question 2:"
   ]
  },
  {
   "cell_type": "code",
   "execution_count": 15,
   "id": "ff6f6066",
   "metadata": {},
   "outputs": [],
   "source": [
    "from tensorflow.keras.preprocessing.image import ImageDataGenerator\n",
    "from keras.models import Sequential\n",
    "from keras.layers import Dense, Flatten, Dropout\n",
    "from keras.applications import VGG16\n",
    "from keras.optimizers import Adam\n",
    "import os"
   ]
  },
  {
   "cell_type": "code",
   "execution_count": 3,
   "id": "151e364a",
   "metadata": {},
   "outputs": [],
   "source": [
    "#defining the ImageDataGenerator with a validation set\n",
    "datagen = ImageDataGenerator(rescale=1./255.,validation_split=0.2,\n",
    "                             rotation_range=20, \n",
    "                             width_shift_range=0.2,\n",
    "                             height_shift_range=0.2, \n",
    "                             horizontal_flip=True)"
   ]
  },
  {
   "cell_type": "code",
   "execution_count": 4,
   "id": "5a96d899",
   "metadata": {},
   "outputs": [],
   "source": [
    "#defining the image size\n",
    "img_size = (224,224)"
   ]
  },
  {
   "cell_type": "code",
   "execution_count": 5,
   "id": "c826f074",
   "metadata": {},
   "outputs": [
    {
     "name": "stdout",
     "output_type": "stream",
     "text": [
      "Found 1393 images belonging to 6 classes.\n",
      "Found 345 images belonging to 6 classes.\n"
     ]
    }
   ],
   "source": [
    "#loading the training data\n",
    "train_generator = datagen.flow_from_directory('C:/Users/subnarasimhan/Desktop/logos3/train',\n",
    "                                              target_size=img_size,\n",
    "                                              batch_size = 32,\n",
    "                                              class_mode = 'categorical',\n",
    "                                              subset='training' \n",
    "                                             )\n",
    "#loading the validation data\n",
    "val_generator = datagen.flow_from_directory('C:/Users/subnarasimhan/Desktop/logos3/train',\n",
    "                                              target_size=img_size,\n",
    "                                              batch_size = 32,\n",
    "                                              class_mode = 'categorical',\n",
    "                                              subset='validation' \n",
    "                                             )"
   ]
  },
  {
   "cell_type": "markdown",
   "id": "b87b3cec",
   "metadata": {},
   "source": [
    "### Sub-question 3"
   ]
  },
  {
   "cell_type": "code",
   "execution_count": 6,
   "id": "8d1399f3",
   "metadata": {},
   "outputs": [],
   "source": [
    "#loading a pre-trained model: VGG-16\n",
    "vgg_base = VGG16(weights='imagenet', include_top=False, input_shape=(224,224,3))"
   ]
  },
  {
   "cell_type": "markdown",
   "id": "391b56c4",
   "metadata": {},
   "source": [
    "### Sub-question 4"
   ]
  },
  {
   "cell_type": "code",
   "execution_count": 9,
   "id": "c1314f6b",
   "metadata": {},
   "outputs": [],
   "source": [
    "#adding a new fully connected layer with 256 neurons and with an output layer of 6 neurons sinces there are 6 classes\n",
    "model = Sequential()\n",
    "model.add(vgg_base)\n",
    "model.add(Flatten())\n",
    "model.add(Dense(256, activation='relu'))\n",
    "model.add(Dropout(0.5))\n",
    "model.add(Dense(6, activation='softmax'))"
   ]
  },
  {
   "cell_type": "markdown",
   "id": "cac21e00",
   "metadata": {},
   "source": [
    "### Sub-question 5"
   ]
  },
  {
   "cell_type": "code",
   "execution_count": 10,
   "id": "cd0f3450",
   "metadata": {},
   "outputs": [],
   "source": [
    "#freezeing the weights of the pre-trained layers\n",
    "vgg_base.trainable = False"
   ]
  },
  {
   "cell_type": "code",
   "execution_count": 11,
   "id": "6be0bbe5",
   "metadata": {},
   "outputs": [
    {
     "name": "stdout",
     "output_type": "stream",
     "text": [
      "Epoch 1/10\n"
     ]
    },
    {
     "name": "stderr",
     "output_type": "stream",
     "text": [
      "C:\\Users\\subnarasimhan\\AppData\\Local\\anaconda3\\lib\\site-packages\\keras\\src\\trainers\\data_adapters\\py_dataset_adapter.py:120: UserWarning: Your `PyDataset` class should call `super().__init__(**kwargs)` in its constructor. `**kwargs` can include `workers`, `use_multiprocessing`, `max_queue_size`. Do not pass these arguments to `fit()`, as they will be ignored.\n",
      "  self._warn_if_super_not_called()\n"
     ]
    },
    {
     "name": "stdout",
     "output_type": "stream",
     "text": [
      "\u001b[1m44/44\u001b[0m \u001b[32m━━━━━━━━━━━━━━━━━━━━\u001b[0m\u001b[37m\u001b[0m \u001b[1m160s\u001b[0m 3s/step - accuracy: 0.4822 - loss: 2.9508 - val_accuracy: 0.8174 - val_loss: 0.6264\n",
      "Epoch 2/10\n",
      "\u001b[1m44/44\u001b[0m \u001b[32m━━━━━━━━━━━━━━━━━━━━\u001b[0m\u001b[37m\u001b[0m \u001b[1m158s\u001b[0m 4s/step - accuracy: 0.7467 - loss: 0.7048 - val_accuracy: 0.8348 - val_loss: 0.5578\n",
      "Epoch 3/10\n",
      "\u001b[1m44/44\u001b[0m \u001b[32m━━━━━━━━━━━━━━━━━━━━\u001b[0m\u001b[37m\u001b[0m \u001b[1m160s\u001b[0m 4s/step - accuracy: 0.7592 - loss: 0.6273 - val_accuracy: 0.8174 - val_loss: 0.5173\n",
      "Epoch 4/10\n",
      "\u001b[1m44/44\u001b[0m \u001b[32m━━━━━━━━━━━━━━━━━━━━\u001b[0m\u001b[37m\u001b[0m \u001b[1m165s\u001b[0m 4s/step - accuracy: 0.8175 - loss: 0.4935 - val_accuracy: 0.8232 - val_loss: 0.4731\n",
      "Epoch 5/10\n",
      "\u001b[1m44/44\u001b[0m \u001b[32m━━━━━━━━━━━━━━━━━━━━\u001b[0m\u001b[37m\u001b[0m \u001b[1m168s\u001b[0m 4s/step - accuracy: 0.8307 - loss: 0.4626 - val_accuracy: 0.8725 - val_loss: 0.4088\n",
      "Epoch 6/10\n",
      "\u001b[1m44/44\u001b[0m \u001b[32m━━━━━━━━━━━━━━━━━━━━\u001b[0m\u001b[37m\u001b[0m \u001b[1m178s\u001b[0m 4s/step - accuracy: 0.8516 - loss: 0.4242 - val_accuracy: 0.8551 - val_loss: 0.4325\n",
      "Epoch 7/10\n",
      "\u001b[1m44/44\u001b[0m \u001b[32m━━━━━━━━━━━━━━━━━━━━\u001b[0m\u001b[37m\u001b[0m \u001b[1m178s\u001b[0m 4s/step - accuracy: 0.8631 - loss: 0.3803 - val_accuracy: 0.8609 - val_loss: 0.4029\n",
      "Epoch 8/10\n",
      "\u001b[1m44/44\u001b[0m \u001b[32m━━━━━━━━━━━━━━━━━━━━\u001b[0m\u001b[37m\u001b[0m \u001b[1m180s\u001b[0m 4s/step - accuracy: 0.8347 - loss: 0.4357 - val_accuracy: 0.8696 - val_loss: 0.3665\n",
      "Epoch 9/10\n",
      "\u001b[1m44/44\u001b[0m \u001b[32m━━━━━━━━━━━━━━━━━━━━\u001b[0m\u001b[37m\u001b[0m \u001b[1m185s\u001b[0m 4s/step - accuracy: 0.8625 - loss: 0.3942 - val_accuracy: 0.8870 - val_loss: 0.3172\n",
      "Epoch 10/10\n",
      "\u001b[1m44/44\u001b[0m \u001b[32m━━━━━━━━━━━━━━━━━━━━\u001b[0m\u001b[37m\u001b[0m \u001b[1m184s\u001b[0m 4s/step - accuracy: 0.8799 - loss: 0.3271 - val_accuracy: 0.8870 - val_loss: 0.3518\n"
     ]
    }
   ],
   "source": [
    "#training the new fully-connected neural network\n",
    "model.compile(optimizer='adam', loss='categorical_crossentropy', metrics=['accuracy'])\n",
    "history = model.fit(train_generator, epochs=10, validation_data = val_generator)"
   ]
  },
  {
   "cell_type": "markdown",
   "id": "038b1a75",
   "metadata": {},
   "source": [
    "### Sub-question 6"
   ]
  },
  {
   "cell_type": "code",
   "execution_count": 12,
   "id": "0e4cc371",
   "metadata": {},
   "outputs": [
    {
     "name": "stdout",
     "output_type": "stream",
     "text": [
      "\u001b[1m11/11\u001b[0m \u001b[32m━━━━━━━━━━━━━━━━━━━━\u001b[0m\u001b[37m\u001b[0m \u001b[1m31s\u001b[0m 3s/step - accuracy: 0.8856 - loss: 0.2977\n",
      "Validation Accuracy: 0.8782608509063721\n"
     ]
    }
   ],
   "source": [
    "#evaluating the performance of the neural network\n",
    "val_loss, val_acc = model.evaluate(val_generator)\n",
    "print('Validation Accuracy:', val_acc)"
   ]
  },
  {
   "cell_type": "markdown",
   "id": "e7a2aa45",
   "metadata": {},
   "source": [
    "### Sub-quesiton 7"
   ]
  },
  {
   "cell_type": "code",
   "execution_count": 16,
   "id": "c78b3c24",
   "metadata": {},
   "outputs": [
    {
     "name": "stdout",
     "output_type": "stream",
     "text": [
      "Epoch 1/10\n",
      "\u001b[1m44/44\u001b[0m \u001b[32m━━━━━━━━━━━━━━━━━━━━\u001b[0m\u001b[37m\u001b[0m \u001b[1m555s\u001b[0m 12s/step - accuracy: 0.6374 - loss: 1.4561 - val_accuracy: 0.8348 - val_loss: 0.5501\n",
      "Epoch 2/10\n",
      "\u001b[1m44/44\u001b[0m \u001b[32m━━━━━━━━━━━━━━━━━━━━\u001b[0m\u001b[37m\u001b[0m \u001b[1m576s\u001b[0m 13s/step - accuracy: 0.8139 - loss: 0.5334 - val_accuracy: 0.8870 - val_loss: 0.3361\n",
      "Epoch 3/10\n",
      "\u001b[1m44/44\u001b[0m \u001b[32m━━━━━━━━━━━━━━━━━━━━\u001b[0m\u001b[37m\u001b[0m \u001b[1m551s\u001b[0m 12s/step - accuracy: 0.8916 - loss: 0.3405 - val_accuracy: 0.8435 - val_loss: 0.5962\n",
      "Epoch 4/10\n",
      "\u001b[1m44/44\u001b[0m \u001b[32m━━━━━━━━━━━━━━━━━━━━\u001b[0m\u001b[37m\u001b[0m \u001b[1m575s\u001b[0m 13s/step - accuracy: 0.9025 - loss: 0.2509 - val_accuracy: 0.9275 - val_loss: 0.2665\n",
      "Epoch 5/10\n",
      "\u001b[1m44/44\u001b[0m \u001b[32m━━━━━━━━━━━━━━━━━━━━\u001b[0m\u001b[37m\u001b[0m \u001b[1m556s\u001b[0m 13s/step - accuracy: 0.9399 - loss: 0.1958 - val_accuracy: 0.8754 - val_loss: 0.4087\n",
      "Epoch 6/10\n",
      "\u001b[1m44/44\u001b[0m \u001b[32m━━━━━━━━━━━━━━━━━━━━\u001b[0m\u001b[37m\u001b[0m \u001b[1m599s\u001b[0m 14s/step - accuracy: 0.9468 - loss: 0.1792 - val_accuracy: 0.8812 - val_loss: 0.3453\n",
      "Epoch 7/10\n",
      "\u001b[1m44/44\u001b[0m \u001b[32m━━━━━━━━━━━━━━━━━━━━\u001b[0m\u001b[37m\u001b[0m \u001b[1m668s\u001b[0m 15s/step - accuracy: 0.9180 - loss: 0.2326 - val_accuracy: 0.9449 - val_loss: 0.1651\n",
      "Epoch 8/10\n",
      "\u001b[1m44/44\u001b[0m \u001b[32m━━━━━━━━━━━━━━━━━━━━\u001b[0m\u001b[37m\u001b[0m \u001b[1m728s\u001b[0m 17s/step - accuracy: 0.9712 - loss: 0.1077 - val_accuracy: 0.9536 - val_loss: 0.1602\n",
      "Epoch 9/10\n",
      "\u001b[1m44/44\u001b[0m \u001b[32m━━━━━━━━━━━━━━━━━━━━\u001b[0m\u001b[37m\u001b[0m \u001b[1m751s\u001b[0m 17s/step - accuracy: 0.9789 - loss: 0.0759 - val_accuracy: 0.9101 - val_loss: 0.3640\n",
      "Epoch 10/10\n",
      "\u001b[1m44/44\u001b[0m \u001b[32m━━━━━━━━━━━━━━━━━━━━\u001b[0m\u001b[37m\u001b[0m \u001b[1m732s\u001b[0m 17s/step - accuracy: 0.9822 - loss: 0.0859 - val_accuracy: 0.9391 - val_loss: 0.3322\n"
     ]
    }
   ],
   "source": [
    "#fine-tuning the entire model\n",
    "vgg_base.trainable = True\n",
    "opt = Adam(learning_rate=0.0001)\n",
    "model.compile(optimizer=opt, loss='categorical_crossentropy', metrics=['accuracy'])\n",
    "history = model.fit(train_generator, epochs=10, validation_data = val_generator)"
   ]
  },
  {
   "cell_type": "markdown",
   "id": "148ceaa5",
   "metadata": {},
   "source": [
    "### Sub-question 8"
   ]
  },
  {
   "cell_type": "code",
   "execution_count": 17,
   "id": "94890ee0",
   "metadata": {},
   "outputs": [
    {
     "name": "stdout",
     "output_type": "stream",
     "text": [
      "\u001b[1m11/11\u001b[0m \u001b[32m━━━━━━━━━━━━━━━━━━━━\u001b[0m\u001b[37m\u001b[0m \u001b[1m35s\u001b[0m 3s/step - accuracy: 0.9269 - loss: 0.2924\n",
      "Validation Accuracy after Fine-tuning: 0.9333333373069763\n"
     ]
    }
   ],
   "source": [
    "#evaluating the performance of the neural network post fine-tuning\n",
    "val_loss, val_acc = model.evaluate(val_generator)\n",
    "print('Validation Accuracy after Fine-tuning:', val_acc)"
   ]
  }
 ],
 "metadata": {
  "kernelspec": {
   "display_name": "Python 3 (ipykernel)",
   "language": "python",
   "name": "python3"
  },
  "language_info": {
   "codemirror_mode": {
    "name": "ipython",
    "version": 3
   },
   "file_extension": ".py",
   "mimetype": "text/x-python",
   "name": "python",
   "nbconvert_exporter": "python",
   "pygments_lexer": "ipython3",
   "version": "3.10.9"
  }
 },
 "nbformat": 4,
 "nbformat_minor": 5
}

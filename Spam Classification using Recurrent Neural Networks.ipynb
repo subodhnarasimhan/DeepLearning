{
 "cells": [
  {
   "cell_type": "markdown",
   "id": "cf033b39",
   "metadata": {},
   "source": [
    "## Question 3"
   ]
  },
  {
   "cell_type": "markdown",
   "id": "fd49c5db",
   "metadata": {},
   "source": [
    "### Sub-question 2"
   ]
  },
  {
   "cell_type": "code",
   "execution_count": 1,
   "id": "7441384c",
   "metadata": {},
   "outputs": [],
   "source": [
    "import numpy as np\n",
    "import pandas as pd\n",
    "from sklearn.model_selection import train_test_split, GridSearchCV\n",
    "from sklearn.metrics import accuracy_score, recall_score, f1_score, precision_score\n",
    "from sklearn.preprocessing import StandardScaler, LabelEncoder\n",
    "from tensorflow.keras.preprocessing.text import Tokenizer\n",
    "from tensorflow.keras.preprocessing.sequence import pad_sequences\n",
    "from tensorflow.keras.models import Sequential\n",
    "from tensorflow.keras.layers import Embedding, LSTM, Dense\n",
    "import tensorflow as tf\n",
    "import keras\n",
    "import warnings\n",
    "warnings.filterwarnings('ignore')\n",
    "import torch\n",
    "from torch import nn"
   ]
  },
  {
   "cell_type": "code",
   "execution_count": 2,
   "id": "6e1926ad",
   "metadata": {},
   "outputs": [],
   "source": [
    "data = pd.read_csv('C:/Users/subnarasimhan/Desktop/SPAM.csv')"
   ]
  },
  {
   "cell_type": "code",
   "execution_count": 3,
   "id": "25c6499c",
   "metadata": {},
   "outputs": [],
   "source": [
    "#splitting the data into labels and messages\n",
    "messages = data['Message'].values\n",
    "labels = data['Category'].apply(lambda x: 1 if x == 'spam' else 0).values"
   ]
  },
  {
   "cell_type": "code",
   "execution_count": 4,
   "id": "5b8b35dd",
   "metadata": {},
   "outputs": [],
   "source": [
    "#tokenizing the messages\n",
    "tokenizer = Tokenizer()\n",
    "tokenizer.fit_on_texts(messages)\n",
    "sequences = tokenizer.texts_to_sequences(messages)"
   ]
  },
  {
   "cell_type": "code",
   "execution_count": 5,
   "id": "38ab40fe",
   "metadata": {},
   "outputs": [],
   "source": [
    "#padding the sequences to match the length\n",
    "max_length = max(len(sequences) for sequence in sequences)\n",
    "sequences = pad_sequences(sequences, maxlen=max_length)"
   ]
  },
  {
   "cell_type": "code",
   "execution_count": 6,
   "id": "03bab137",
   "metadata": {},
   "outputs": [],
   "source": [
    "#splitting the data into train and test\n",
    "messages_train, messages_test, labels_train, labels_test = train_test_split(sequences,labels,test_size=0.2, random_state=42)"
   ]
  },
  {
   "cell_type": "markdown",
   "id": "4a93a03e",
   "metadata": {},
   "source": [
    "### Sub-question 3"
   ]
  },
  {
   "cell_type": "code",
   "execution_count": 7,
   "id": "0648b239",
   "metadata": {},
   "outputs": [],
   "source": [
    "#building the model\n",
    "model = Sequential([Embedding(input_dim=len(tokenizer.word_index) + 1, output_dim = 32, input_length=max_length), LSTM(32), Dense(1,activation='sigmoid')])"
   ]
  },
  {
   "cell_type": "code",
   "execution_count": 8,
   "id": "75b16323",
   "metadata": {},
   "outputs": [],
   "source": [
    "#compiling the model\n",
    "model.compile(loss='binary_crossentropy', optimizer='adam', metrics=['accuracy'])"
   ]
  },
  {
   "cell_type": "markdown",
   "id": "c16f5f54",
   "metadata": {},
   "source": [
    "### Sub-question 4"
   ]
  },
  {
   "cell_type": "code",
   "execution_count": 9,
   "id": "d4a00889",
   "metadata": {
    "scrolled": true
   },
   "outputs": [
    {
     "name": "stdout",
     "output_type": "stream",
     "text": [
      "\u001b[1m140/140\u001b[0m \u001b[32m━━━━━━━━━━━━━━━━━━━━\u001b[0m\u001b[37m\u001b[0m \u001b[1m281s\u001b[0m 2s/step - accuracy: 0.8657 - loss: 0.4031 - val_accuracy: 0.9749 - val_loss: 0.1030\n"
     ]
    },
    {
     "data": {
      "text/plain": [
       "<keras.src.callbacks.history.History at 0x25a9f2b9090>"
      ]
     },
     "execution_count": 9,
     "metadata": {},
     "output_type": "execute_result"
    }
   ],
   "source": [
    "#training the model\n",
    "model.fit(messages_train, labels_train, epochs=1, validation_data=(messages_test, labels_test))"
   ]
  },
  {
   "cell_type": "code",
   "execution_count": 10,
   "id": "4f5d67be",
   "metadata": {},
   "outputs": [
    {
     "name": "stdout",
     "output_type": "stream",
     "text": [
      "\u001b[1m35/35\u001b[0m \u001b[32m━━━━━━━━━━━━━━━━━━━━\u001b[0m\u001b[37m\u001b[0m \u001b[1m10s\u001b[0m 291ms/step - accuracy: 0.9757 - loss: 0.0923\n",
      "Test Accuracy: 97.49%\n"
     ]
    }
   ],
   "source": [
    "#evaluation of the model\n",
    "loss,accuracy = model.evaluate(messages_test,labels_test)\n",
    "print(f\"Test Accuracy: {accuracy*100:.2f}%\")"
   ]
  },
  {
   "cell_type": "markdown",
   "id": "a7cb3fc7",
   "metadata": {},
   "source": [
    "### Sub-question 5"
   ]
  },
  {
   "cell_type": "code",
   "execution_count": 17,
   "id": "6b92da08",
   "metadata": {},
   "outputs": [
    {
     "name": "stdout",
     "output_type": "stream",
     "text": [
      "\u001b[1m140/140\u001b[0m \u001b[32m━━━━━━━━━━━━━━━━━━━━\u001b[0m\u001b[37m\u001b[0m \u001b[1m257s\u001b[0m 2s/step - accuracy: 0.8553 - loss: 0.3701 - val_accuracy: 0.9776 - val_loss: 0.0836\n",
      "\u001b[1m35/35\u001b[0m \u001b[32m━━━━━━━━━━━━━━━━━━━━\u001b[0m\u001b[37m\u001b[0m \u001b[1m10s\u001b[0m 294ms/step - accuracy: 0.9795 - loss: 0.0750\n",
      "Learning rate: 0.001, Test Accuracy: 97.76%\n",
      "\u001b[1m140/140\u001b[0m \u001b[32m━━━━━━━━━━━━━━━━━━━━\u001b[0m\u001b[37m\u001b[0m \u001b[1m272s\u001b[0m 2s/step - accuracy: 0.8715 - loss: 0.3854 - val_accuracy: 0.9812 - val_loss: 0.0813\n",
      "\u001b[1m35/35\u001b[0m \u001b[32m━━━━━━━━━━━━━━━━━━━━\u001b[0m\u001b[37m\u001b[0m \u001b[1m10s\u001b[0m 294ms/step - accuracy: 0.9839 - loss: 0.0734\n",
      "Learning rate: 0.01, Test Accuracy: 98.12%\n",
      "\u001b[1m140/140\u001b[0m \u001b[32m━━━━━━━━━━━━━━━━━━━━\u001b[0m\u001b[37m\u001b[0m \u001b[1m282s\u001b[0m 2s/step - accuracy: 0.8819 - loss: 0.3735 - val_accuracy: 0.9776 - val_loss: 0.0885\n",
      "\u001b[1m35/35\u001b[0m \u001b[32m━━━━━━━━━━━━━━━━━━━━\u001b[0m\u001b[37m\u001b[0m \u001b[1m10s\u001b[0m 290ms/step - accuracy: 0.9766 - loss: 0.0791\n",
      "Learning rate: 0.1, Test Accuracy: 97.76%\n"
     ]
    }
   ],
   "source": [
    "#trying out for different learning rates\n",
    "learning_rates = [0.001, 0.01, 0.1]\n",
    "for lr in learning_rates:\n",
    "    model = Sequential([Embedding(input_dim = len(tokenizer.word_index) + 1, output_dim=32, input_length=max_length), LSTM(32), Dense(1, activation='sigmoid')])\n",
    "    \n",
    "    #compiling the model\n",
    "    model.compile(loss='binary_crossentropy', optimizer='adam', metrics=['accuracy'])\n",
    "    \n",
    "    #training the model\n",
    "    model.fit(messages_train, labels_train, epochs=1, validation_data=(messages_test, labels_test))\n",
    "    \n",
    "    #evaluation of the model\n",
    "    loss,accuracy = model.evaluate(messages_test,labels_test)\n",
    "    print(f'Learning rate: {lr}, Test Accuracy: {accuracy*100:.2f}%')"
   ]
  }
 ],
 "metadata": {
  "kernelspec": {
   "display_name": "Python 3 (ipykernel)",
   "language": "python",
   "name": "python3"
  },
  "language_info": {
   "codemirror_mode": {
    "name": "ipython",
    "version": 3
   },
   "file_extension": ".py",
   "mimetype": "text/x-python",
   "name": "python",
   "nbconvert_exporter": "python",
   "pygments_lexer": "ipython3",
   "version": "3.10.9"
  }
 },
 "nbformat": 4,
 "nbformat_minor": 5
}
